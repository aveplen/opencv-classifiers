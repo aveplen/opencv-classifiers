{
 "cells": [
  {
   "cell_type": "markdown",
   "metadata": {},
   "source": [
    "# Load train and test data"
   ]
  },
  {
   "cell_type": "code",
   "execution_count": 41,
   "metadata": {},
   "outputs": [],
   "source": [
    "import cv2\n",
    "\n",
    "def load_image(image_path, dimension=(224, 224)):\n",
    "    win_size = dimension\n",
    "    cell_size = (8, 8)\n",
    "    block_size = (16, 16)\n",
    "    block_stride = (8, 8)\n",
    "    num_bins = 9\n",
    "\n",
    "    hog = cv2.HOGDescriptor(win_size, block_size, block_stride, cell_size, num_bins)\n",
    "    \n",
    "    image = cv2.imread(image_path, cv2.IMREAD_COLOR)\n",
    "    image = cv2.resize(image, dimension)\n",
    "    image_gray = cv2.cvtColor(image, cv2.COLOR_BGR2GRAY)\n",
    "    print(image_gray)\n",
    "    hog_descriptor = hog.compute(image_gray)\n",
    "    return hog_descriptor"
   ]
  },
  {
   "cell_type": "code",
   "execution_count": null,
   "metadata": {},
   "outputs": [],
   "source": []
  },
  {
   "cell_type": "code",
   "execution_count": 42,
   "metadata": {},
   "outputs": [
    {
     "name": "stdout",
     "output_type": "stream",
     "text": [
      "[[128 128 128 ... 128 128 128]\n",
      " [128 128 128 ... 128 128 128]\n",
      " [128 128 128 ... 128 128 128]\n",
      " ...\n",
      " [128 128 128 ... 128 128 128]\n",
      " [128 128 128 ... 128 128 128]\n",
      " [128 128 128 ... 128 128 128]]\n",
      "(26244,)\n",
      "[0. 0. 0. ... 0. 0. 0.]\n"
     ]
    }
   ],
   "source": [
    "\n",
    "img = load_image(\"groceries/BEANS/BEANS0000.png\", (224, 224))\n",
    "print(img.shape)\n",
    "print(img)"
   ]
  },
  {
   "cell_type": "code",
   "execution_count": null,
   "metadata": {},
   "outputs": [],
   "source": []
  },
  {
   "cell_type": "code",
   "execution_count": 43,
   "metadata": {},
   "outputs": [
    {
     "name": "stdout",
     "output_type": "stream",
     "text": [
      "[[184 184 183 ... 177 175 174]\n",
      " [184 183 183 ... 178 176 175]\n",
      " [183 183 182 ... 181 177 176]\n",
      " ...\n",
      " [191 191 190 ... 181 180 179]\n",
      " [192 191 191 ... 181 180 180]\n",
      " [192 192 191 ... 181 180 180]]\n",
      "(1764,)\n",
      "[0.19105908 0.04895691 0.1470907  ... 0.08615888 0.14349894 0.13855472]\n"
     ]
    }
   ],
   "source": [
    "\n",
    "img = load_image(\"cifar-10/airplane/0.jpg\", (64, 64))\n",
    "print(img.shape)\n",
    "print(img)"
   ]
  },
  {
   "cell_type": "code",
   "execution_count": 50,
   "metadata": {},
   "outputs": [
    {
     "name": "stdout",
     "output_type": "stream",
     "text": [
      "(2048,)\n",
      "[0.12455437 0.3046711  0.01450814 ... 0.03151937 0.7242586  0.3015578 ]\n",
      "(2048,)\n",
      "[0.02925953 0.7805724  2.7778416  ... 1.8154366  0.         0.33503237]\n"
     ]
    }
   ],
   "source": [
    "import cv2\n",
    "import numpy as np\n",
    "import onnxruntime as rt\n",
    "\n",
    "def load_image_2(image_path, feature_extractor_path, dimension=(224, 224)):\n",
    "    image = cv2.imread(image_path, cv2.IMREAD_COLOR)\n",
    "    image = cv2.resize(image, dimension)\n",
    "    image = cv2.cvtColor(image, cv2.COLOR_BGR2RGB)\n",
    "    image = image - [103.939, 116.779, 123.68]\n",
    "\n",
    "    session = rt.InferenceSession(feature_extractor_path, providers=[\"CPUExecutionProvider\"])\n",
    "    input_name = session.get_inputs()[0].name\n",
    "\n",
    "    test_sample_bulk = np.array([image.astype(np.float64)])\n",
    "    onx_features = session.run(None, {input_name: test_sample_bulk})[0][0]\n",
    "\n",
    "    return onx_features\n",
    "\n",
    "\n",
    "img = load_image_2(\"groceries/BEANS/BEANS0000.png\", \"resnet50_feature_extractor_groceries_224_224_3.onnx\", (224, 224))\n",
    "print(img.shape)\n",
    "print(img)\n",
    "\n",
    "img = load_image_2(\"cifar-10/airplane/0.jpg\", \"resnet50_feature_extractor_cifar10_64_64_3.onnx\", (64, 64))\n",
    "print(img.shape)\n",
    "print(img)"
   ]
  }
 ],
 "metadata": {
  "kernelspec": {
   "display_name": ".venv",
   "language": "python",
   "name": "python3"
  },
  "language_info": {
   "codemirror_mode": {
    "name": "ipython",
    "version": 3
   },
   "file_extension": ".py",
   "mimetype": "text/x-python",
   "name": "python",
   "nbconvert_exporter": "python",
   "pygments_lexer": "ipython3",
   "version": "3.11.5"
  }
 },
 "nbformat": 4,
 "nbformat_minor": 2
}
