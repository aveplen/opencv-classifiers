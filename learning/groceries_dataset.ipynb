{
 "cells": [
  {
   "cell_type": "code",
   "execution_count": 3,
   "metadata": {},
   "outputs": [],
   "source": [
    "import os\n",
    "from urllib.request import urlretrieve\n",
    "from subprocess import call\n",
    "import shutil\n",
    "\n",
    "dataset_url = \"http://aisdatasets.informatik.uni-freiburg.de/freiburg_groceries_dataset/freiburg_groceries_dataset.tar.gz\"\n",
    "\n",
    "def download():\n",
    "    urlretrieve(dataset_url, \"freiburg_groceries_dataset.tar.gz\")\n",
    "    call([\"tar\", \"-xf\", \"freiburg_groceries_dataset.tar.gz\", \"-C\", \".\"])\n",
    "    os.remove(\"freiburg_groceries_dataset.tar.gz\")\n",
    "    shutil.rmtree(\"groceries\")\n",
    "    os.rename(\"images\", \"groceries\")"
   ]
  },
  {
   "cell_type": "code",
   "execution_count": 4,
   "metadata": {},
   "outputs": [],
   "source": [
    "download()\n"
   ]
  }
 ],
 "metadata": {
  "kernelspec": {
   "display_name": ".venv",
   "language": "python",
   "name": "python3"
  },
  "language_info": {
   "codemirror_mode": {
    "name": "ipython",
    "version": 3
   },
   "file_extension": ".py",
   "mimetype": "text/x-python",
   "name": "python",
   "nbconvert_exporter": "python",
   "pygments_lexer": "ipython3",
   "version": "3.11.5"
  }
 },
 "nbformat": 4,
 "nbformat_minor": 2
}
